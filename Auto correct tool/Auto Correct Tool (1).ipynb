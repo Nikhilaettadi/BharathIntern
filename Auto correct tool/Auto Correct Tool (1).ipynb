{
 "cells": [
  {
   "cell_type": "markdown",
   "id": "cc41fc4d",
   "metadata": {},
   "source": [
    "# Bharat Intern\n",
    "\n",
    "# Artificial Intelligence Internship\n",
    "\n",
    "Task:Auto Correct Tool\n",
    "\n",
    "Name:E.Nikhila"
   ]
  },
  {
   "cell_type": "code",
   "execution_count": 1,
   "id": "b061acea",
   "metadata": {},
   "outputs": [
    {
     "name": "stdout",
     "output_type": "stream",
     "text": [
      "Requirement already satisfied: pyspellchecker in c:\\users\\nikhila ettadi\\appdata\\local\\programs\\python\\python38\\lib\\site-packages (0.7.2)\n"
     ]
    },
    {
     "name": "stderr",
     "output_type": "stream",
     "text": [
      "WARNING: You are using pip version 20.2.3; however, version 23.1.2 is available.\n",
      "You should consider upgrading via the 'c:\\users\\nikhila ettadi\\appdata\\local\\programs\\python\\python38\\python.exe -m pip install --upgrade pip' command.\n"
     ]
    }
   ],
   "source": [
    "!pip install pyspellchecker"
   ]
  },
  {
   "cell_type": "code",
   "execution_count": 2,
   "id": "f3c20134",
   "metadata": {},
   "outputs": [
    {
     "name": "stdout",
     "output_type": "stream",
     "text": [
      "Requirement already satisfied: pattern in c:\\users\\nikhila ettadi\\appdata\\local\\programs\\python\\python38\\lib\\site-packages (3.6)\n",
      "Requirement already satisfied: future in c:\\users\\nikhila ettadi\\appdata\\local\\programs\\python\\python38\\lib\\site-packages (from pattern) (0.18.3)\n",
      "Requirement already satisfied: backports.csv in c:\\users\\nikhila ettadi\\appdata\\local\\programs\\python\\python38\\lib\\site-packages (from pattern) (1.0.7)\n",
      "Requirement already satisfied: mysqlclient in c:\\users\\nikhila ettadi\\appdata\\local\\programs\\python\\python38\\lib\\site-packages (from pattern) (2.2.0)\n",
      "Requirement already satisfied: beautifulsoup4 in c:\\users\\nikhila ettadi\\appdata\\local\\programs\\python\\python38\\lib\\site-packages (from pattern) (4.12.2)\n",
      "Requirement already satisfied: lxml in c:\\users\\nikhila ettadi\\appdata\\local\\programs\\python\\python38\\lib\\site-packages (from pattern) (4.9.3)\n",
      "Requirement already satisfied: feedparser in c:\\users\\nikhila ettadi\\appdata\\local\\programs\\python\\python38\\lib\\site-packages (from pattern) (6.0.10)\n",
      "Requirement already satisfied: pdfminer.six in c:\\users\\nikhila ettadi\\appdata\\local\\programs\\python\\python38\\lib\\site-packages (from pattern) (20221105)\n",
      "Requirement already satisfied: numpy in c:\\users\\nikhila ettadi\\appdata\\local\\programs\\python\\python38\\lib\\site-packages (from pattern) (1.24.4)\n",
      "Requirement already satisfied: scipy in c:\\users\\nikhila ettadi\\appdata\\local\\programs\\python\\python38\\lib\\site-packages (from pattern) (1.10.1)\n",
      "Requirement already satisfied: nltk in c:\\users\\nikhila ettadi\\appdata\\local\\programs\\python\\python38\\lib\\site-packages (from pattern) (3.8.1)\n",
      "Requirement already satisfied: python-docx in c:\\users\\nikhila ettadi\\appdata\\local\\programs\\python\\python38\\lib\\site-packages (from pattern) (0.8.11)\n",
      "Requirement already satisfied: cherrypy in c:\\users\\nikhila ettadi\\appdata\\local\\programs\\python\\python38\\lib\\site-packages (from pattern) (18.8.0)\n",
      "Requirement already satisfied: requests in c:\\users\\nikhila ettadi\\appdata\\local\\programs\\python\\python38\\lib\\site-packages (from pattern) (2.31.0)\n",
      "Requirement already satisfied: soupsieve>1.2 in c:\\users\\nikhila ettadi\\appdata\\local\\programs\\python\\python38\\lib\\site-packages (from beautifulsoup4->pattern) (2.4.1)\n",
      "Requirement already satisfied: sgmllib3k in c:\\users\\nikhila ettadi\\appdata\\local\\programs\\python\\python38\\lib\\site-packages (from feedparser->pattern) (1.0.0)\n",
      "Requirement already satisfied: cryptography>=36.0.0 in c:\\users\\nikhila ettadi\\appdata\\local\\programs\\python\\python38\\lib\\site-packages (from pdfminer.six->pattern) (41.0.1)\n",
      "Requirement already satisfied: charset-normalizer>=2.0.0 in c:\\users\\nikhila ettadi\\appdata\\local\\programs\\python\\python38\\lib\\site-packages (from pdfminer.six->pattern) (3.1.0)\n",
      "Requirement already satisfied: tqdm in c:\\users\\nikhila ettadi\\appdata\\local\\programs\\python\\python38\\lib\\site-packages (from nltk->pattern) (4.65.0)\n",
      "Requirement already satisfied: joblib in c:\\users\\nikhila ettadi\\appdata\\local\\programs\\python\\python38\\lib\\site-packages (from nltk->pattern) (1.3.1)\n",
      "Requirement already satisfied: regex>=2021.8.3 in c:\\users\\nikhila ettadi\\appdata\\local\\programs\\python\\python38\\lib\\site-packages (from nltk->pattern) (2023.6.3)\n",
      "Requirement already satisfied: click in c:\\users\\nikhila ettadi\\appdata\\local\\programs\\python\\python38\\lib\\site-packages (from nltk->pattern) (8.1.3)\n",
      "Requirement already satisfied: cheroot>=8.2.1 in c:\\users\\nikhila ettadi\\appdata\\local\\programs\\python\\python38\\lib\\site-packages (from cherrypy->pattern) (10.0.0)\n",
      "Requirement already satisfied: jaraco.collections in c:\\users\\nikhila ettadi\\appdata\\local\\programs\\python\\python38\\lib\\site-packages (from cherrypy->pattern) (4.3.0)\n",
      "Requirement already satisfied: portend>=2.1.1 in c:\\users\\nikhila ettadi\\appdata\\local\\programs\\python\\python38\\lib\\site-packages (from cherrypy->pattern) (3.2.0)\n",
      "Requirement already satisfied: more-itertools in c:\\users\\nikhila ettadi\\appdata\\local\\programs\\python\\python38\\lib\\site-packages (from cherrypy->pattern) (9.1.0)\n",
      "Requirement already satisfied: zc.lockfile in c:\\users\\nikhila ettadi\\appdata\\local\\programs\\python\\python38\\lib\\site-packages (from cherrypy->pattern) (3.0.post1)\n",
      "Requirement already satisfied: pywin32>=227; sys_platform == \"win32\" and implementation_name == \"cpython\" and python_version < \"3.10\" in c:\\users\\nikhila ettadi\\appdata\\local\\programs\\python\\python38\\lib\\site-packages (from cherrypy->pattern) (306)\n",
      "Requirement already satisfied: urllib3<3,>=1.21.1 in c:\\users\\nikhila ettadi\\appdata\\local\\programs\\python\\python38\\lib\\site-packages (from requests->pattern) (2.0.3)\n",
      "Requirement already satisfied: idna<4,>=2.5 in c:\\users\\nikhila ettadi\\appdata\\local\\programs\\python\\python38\\lib\\site-packages (from requests->pattern) (2.10)\n",
      "Requirement already satisfied: certifi>=2017.4.17 in c:\\users\\nikhila ettadi\\appdata\\local\\programs\\python\\python38\\lib\\site-packages (from requests->pattern) (2023.5.7)\n",
      "Requirement already satisfied: cffi>=1.12 in c:\\users\\nikhila ettadi\\appdata\\local\\programs\\python\\python38\\lib\\site-packages (from cryptography>=36.0.0->pdfminer.six->pattern) (1.15.1)\n",
      "Requirement already satisfied: colorama; platform_system == \"Windows\" in c:\\users\\nikhila ettadi\\appdata\\local\\programs\\python\\python38\\lib\\site-packages (from tqdm->nltk->pattern) (0.4.6)\n",
      "Requirement already satisfied: jaraco.functools in c:\\users\\nikhila ettadi\\appdata\\local\\programs\\python\\python38\\lib\\site-packages (from cheroot>=8.2.1->cherrypy->pattern) (3.8.0)\n",
      "Requirement already satisfied: jaraco.text in c:\\users\\nikhila ettadi\\appdata\\local\\programs\\python\\python38\\lib\\site-packages (from jaraco.collections->cherrypy->pattern) (3.11.1)\n",
      "Requirement already satisfied: tempora>=1.8 in c:\\users\\nikhila ettadi\\appdata\\local\\programs\\python\\python38\\lib\\site-packages (from portend>=2.1.1->cherrypy->pattern) (5.5.0)\n",
      "Requirement already satisfied: setuptools in c:\\users\\nikhila ettadi\\appdata\\local\\programs\\python\\python38\\lib\\site-packages (from zc.lockfile->cherrypy->pattern) (49.2.1)\n",
      "Requirement already satisfied: pycparser in c:\\users\\nikhila ettadi\\appdata\\local\\programs\\python\\python38\\lib\\site-packages (from cffi>=1.12->cryptography>=36.0.0->pdfminer.six->pattern) (2.21)\n",
      "Requirement already satisfied: jaraco.context>=4.1 in c:\\users\\nikhila ettadi\\appdata\\local\\programs\\python\\python38\\lib\\site-packages (from jaraco.text->jaraco.collections->cherrypy->pattern) (4.3.0)\n",
      "Requirement already satisfied: inflect in c:\\users\\nikhila ettadi\\appdata\\local\\programs\\python\\python38\\lib\\site-packages (from jaraco.text->jaraco.collections->cherrypy->pattern) (7.0.0)\n",
      "Requirement already satisfied: autocommand in c:\\users\\nikhila ettadi\\appdata\\local\\programs\\python\\python38\\lib\\site-packages (from jaraco.text->jaraco.collections->cherrypy->pattern) (2.2.2)\n",
      "Requirement already satisfied: importlib-resources; python_version < \"3.9\" in c:\\users\\nikhila ettadi\\appdata\\local\\programs\\python\\python38\\lib\\site-packages (from jaraco.text->jaraco.collections->cherrypy->pattern) (5.12.0)\n",
      "Requirement already satisfied: pytz in c:\\users\\nikhila ettadi\\appdata\\local\\programs\\python\\python38\\lib\\site-packages (from tempora>=1.8->portend>=2.1.1->cherrypy->pattern) (2023.3)\n",
      "Requirement already satisfied: pydantic>=1.9.1 in c:\\users\\nikhila ettadi\\appdata\\local\\programs\\python\\python38\\lib\\site-packages (from inflect->jaraco.text->jaraco.collections->cherrypy->pattern) (2.0.1)\n",
      "Requirement already satisfied: typing-extensions in c:\\users\\nikhila ettadi\\appdata\\local\\programs\\python\\python38\\lib\\site-packages (from inflect->jaraco.text->jaraco.collections->cherrypy->pattern) (4.6.3)\n",
      "Requirement already satisfied: zipp>=3.1.0; python_version < \"3.10\" in c:\\users\\nikhila ettadi\\appdata\\local\\programs\\python\\python38\\lib\\site-packages (from importlib-resources; python_version < \"3.9\"->jaraco.text->jaraco.collections->cherrypy->pattern) (3.15.0)\n",
      "Requirement already satisfied: pydantic-core==2.0.2 in c:\\users\\nikhila ettadi\\appdata\\local\\programs\\python\\python38\\lib\\site-packages (from pydantic>=1.9.1->inflect->jaraco.text->jaraco.collections->cherrypy->pattern) (2.0.2)\n",
      "Requirement already satisfied: annotated-types>=0.4.0 in c:\\users\\nikhila ettadi\\appdata\\local\\programs\\python\\python38\\lib\\site-packages (from pydantic>=1.9.1->inflect->jaraco.text->jaraco.collections->cherrypy->pattern) (0.5.0)\n"
     ]
    },
    {
     "name": "stderr",
     "output_type": "stream",
     "text": [
      "WARNING: You are using pip version 20.2.3; however, version 23.1.2 is available.\n",
      "You should consider upgrading via the 'c:\\users\\nikhila ettadi\\appdata\\local\\programs\\python\\python38\\python.exe -m pip install --upgrade pip' command.\n"
     ]
    },
    {
     "name": "stdout",
     "output_type": "stream",
     "text": [
      "Requirement already satisfied: autocorrect in c:\\users\\nikhila ettadi\\appdata\\local\\programs\\python\\python38\\lib\\site-packages (2.6.1)\n"
     ]
    },
    {
     "name": "stderr",
     "output_type": "stream",
     "text": [
      "WARNING: You are using pip version 20.2.3; however, version 23.1.2 is available.\n",
      "You should consider upgrading via the 'c:\\users\\nikhila ettadi\\appdata\\local\\programs\\python\\python38\\python.exe -m pip install --upgrade pip' command.\n"
     ]
    },
    {
     "name": "stdout",
     "output_type": "stream",
     "text": [
      "Requirement already satisfied: textblob in c:\\users\\nikhila ettadi\\appdata\\local\\programs\\python\\python38\\lib\\site-packages (0.17.1)\n",
      "Requirement already satisfied: nltk>=3.1; python_version >= \"3\" in c:\\users\\nikhila ettadi\\appdata\\local\\programs\\python\\python38\\lib\\site-packages (from textblob) (3.8.1)\n",
      "Requirement already satisfied: regex>=2021.8.3 in c:\\users\\nikhila ettadi\\appdata\\local\\programs\\python\\python38\\lib\\site-packages (from nltk>=3.1; python_version >= \"3\"->textblob) (2023.6.3)\n",
      "Requirement already satisfied: tqdm in c:\\users\\nikhila ettadi\\appdata\\local\\programs\\python\\python38\\lib\\site-packages (from nltk>=3.1; python_version >= \"3\"->textblob) (4.65.0)\n",
      "Requirement already satisfied: click in c:\\users\\nikhila ettadi\\appdata\\local\\programs\\python\\python38\\lib\\site-packages (from nltk>=3.1; python_version >= \"3\"->textblob) (8.1.3)\n",
      "Requirement already satisfied: joblib in c:\\users\\nikhila ettadi\\appdata\\local\\programs\\python\\python38\\lib\\site-packages (from nltk>=3.1; python_version >= \"3\"->textblob) (1.3.1)\n",
      "Requirement already satisfied: colorama; platform_system == \"Windows\" in c:\\users\\nikhila ettadi\\appdata\\local\\programs\\python\\python38\\lib\\site-packages (from tqdm->nltk>=3.1; python_version >= \"3\"->textblob) (0.4.6)\n"
     ]
    },
    {
     "name": "stderr",
     "output_type": "stream",
     "text": [
      "WARNING: You are using pip version 20.2.3; however, version 23.1.2 is available.\n",
      "You should consider upgrading via the 'c:\\users\\nikhila ettadi\\appdata\\local\\programs\\python\\python38\\python.exe -m pip install --upgrade pip' command.\n"
     ]
    },
    {
     "name": "stdout",
     "output_type": "stream",
     "text": [
      "Requirement already satisfied: textdistance in c:\\users\\nikhila ettadi\\appdata\\local\\programs\\python\\python38\\lib\\site-packages (4.5.0)\n"
     ]
    },
    {
     "name": "stderr",
     "output_type": "stream",
     "text": [
      "WARNING: You are using pip version 20.2.3; however, version 23.1.2 is available.\n",
      "You should consider upgrading via the 'c:\\users\\nikhila ettadi\\appdata\\local\\programs\\python\\python38\\python.exe -m pip install --upgrade pip' command.\n"
     ]
    }
   ],
   "source": [
    "!pip install pattern\n",
    "!pip install autocorrect\n",
    "!pip install textblob\n",
    "!pip install textdistance"
   ]
  },
  {
   "cell_type": "code",
   "execution_count": 3,
   "id": "0152fba1",
   "metadata": {},
   "outputs": [
    {
     "name": "stdout",
     "output_type": "stream",
     "text": [
      "enter the wordcotto\n",
      "The corrected word for 'cotto' is 'cotton' is:\n",
      "The suggested words are {'outdo', 'outon', 'auto', 'outof', 'youto', 'puto', 'onto', 'ouzo', 'outa', 'otto', 'outto', 'outs', 'oto', 'outl', 'out', 'orto'}:\n"
     ]
    }
   ],
   "source": [
    "from spellchecker import SpellChecker\n",
    "spell = SpellChecker()\n",
    "misspell_word = input(\"enter the word\")\n",
    "correct_word = spell.correction(misspell_word)\n",
    "print(f\"The corrected word for '{misspell_word}' is '{correct_word}' is:\")\n",
    "misspell_word = \"outo\"\n",
    "suggestions = spell.candidates(misspell_word)\n",
    "print(f\"The suggested words are {suggestions}:\")"
   ]
  }
 ],
 "metadata": {
  "kernelspec": {
   "display_name": "Python 3 (ipykernel)",
   "language": "python",
   "name": "python3"
  },
  "language_info": {
   "codemirror_mode": {
    "name": "ipython",
    "version": 3
   },
   "file_extension": ".py",
   "mimetype": "text/x-python",
   "name": "python",
   "nbconvert_exporter": "python",
   "pygments_lexer": "ipython3",
   "version": "3.8.8"
  }
 },
 "nbformat": 4,
 "nbformat_minor": 5
}
