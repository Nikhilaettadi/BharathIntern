{
 "cells": [
  {
   "cell_type": "markdown",
   "id": "6aebf178",
   "metadata": {},
   "source": [
    "# Bharat Intern\n",
    "\n",
    "# Artificial Intelligence Internship\n",
    "\n",
    "Task:Translator\n",
    "\n",
    "Name:E.Nikhila"
   ]
  },
  {
   "cell_type": "code",
   "execution_count": 1,
   "id": "d80c36a8",
   "metadata": {},
   "outputs": [
    {
     "name": "stdout",
     "output_type": "stream",
     "text": [
      "Requirement already satisfied: googletrans==4.0.0-rc1 in c:\\users\\nikhila ettadi\\appdata\\local\\programs\\python\\python38\\lib\\site-packages (4.0.0rc1)\n",
      "Requirement already satisfied: httpx==0.13.3 in c:\\users\\nikhila ettadi\\appdata\\local\\programs\\python\\python38\\lib\\site-packages (from googletrans==4.0.0-rc1) (0.13.3)\n",
      "Requirement already satisfied: hstspreload in c:\\users\\nikhila ettadi\\appdata\\local\\programs\\python\\python38\\lib\\site-packages (from httpx==0.13.3->googletrans==4.0.0-rc1) (2023.1.1)\n",
      "Requirement already satisfied: rfc3986<2,>=1.3 in c:\\users\\nikhila ettadi\\appdata\\local\\programs\\python\\python38\\lib\\site-packages (from httpx==0.13.3->googletrans==4.0.0-rc1) (1.5.0)\n",
      "Requirement already satisfied: idna==2.* in c:\\users\\nikhila ettadi\\appdata\\local\\programs\\python\\python38\\lib\\site-packages (from httpx==0.13.3->googletrans==4.0.0-rc1) (2.10)\n",
      "Requirement already satisfied: sniffio in c:\\users\\nikhila ettadi\\appdata\\local\\programs\\python\\python38\\lib\\site-packages (from httpx==0.13.3->googletrans==4.0.0-rc1) (1.3.0)\n",
      "Requirement already satisfied: certifi in c:\\users\\nikhila ettadi\\appdata\\local\\programs\\python\\python38\\lib\\site-packages (from httpx==0.13.3->googletrans==4.0.0-rc1) (2023.5.7)\n",
      "Requirement already satisfied: chardet==3.* in c:\\users\\nikhila ettadi\\appdata\\local\\programs\\python\\python38\\lib\\site-packages (from httpx==0.13.3->googletrans==4.0.0-rc1) (3.0.4)\n",
      "Requirement already satisfied: httpcore==0.9.* in c:\\users\\nikhila ettadi\\appdata\\local\\programs\\python\\python38\\lib\\site-packages (from httpx==0.13.3->googletrans==4.0.0-rc1) (0.9.1)\n",
      "Requirement already satisfied: h11<0.10,>=0.8 in c:\\users\\nikhila ettadi\\appdata\\local\\programs\\python\\python38\\lib\\site-packages (from httpcore==0.9.*->httpx==0.13.3->googletrans==4.0.0-rc1) (0.9.0)\n",
      "Requirement already satisfied: h2==3.* in c:\\users\\nikhila ettadi\\appdata\\local\\programs\\python\\python38\\lib\\site-packages (from httpcore==0.9.*->httpx==0.13.3->googletrans==4.0.0-rc1) (3.2.0)\n",
      "Requirement already satisfied: hyperframe<6,>=5.2.0 in c:\\users\\nikhila ettadi\\appdata\\local\\programs\\python\\python38\\lib\\site-packages (from h2==3.*->httpcore==0.9.*->httpx==0.13.3->googletrans==4.0.0-rc1) (5.2.0)\n",
      "Requirement already satisfied: hpack<4,>=3.0 in c:\\users\\nikhila ettadi\\appdata\\local\\programs\\python\\python38\\lib\\site-packages (from h2==3.*->httpcore==0.9.*->httpx==0.13.3->googletrans==4.0.0-rc1) (3.0.0)\n"
     ]
    },
    {
     "name": "stderr",
     "output_type": "stream",
     "text": [
      "WARNING: You are using pip version 20.2.3; however, version 23.1.2 is available.\n",
      "You should consider upgrading via the 'c:\\users\\nikhila ettadi\\appdata\\local\\programs\\python\\python38\\python.exe -m pip install --upgrade pip' command.\n"
     ]
    }
   ],
   "source": [
    "!pip install googletrans==4.0.0-rc1"
   ]
  },
  {
   "cell_type": "code",
   "execution_count": 2,
   "id": "477f2a22",
   "metadata": {},
   "outputs": [
    {
     "name": "stdout",
     "output_type": "stream",
     "text": [
      "enter the texthello\n",
      "enter the language to translatekannada\n",
      "ನಮಸ್ಕಾರ\n"
     ]
    }
   ],
   "source": [
    "from googletrans import Translator\n",
    "translator = Translator()\n",
    "input_text = input(\"enter the text\")\n",
    "change_lang = input(\"enter the language to translate\")\n",
    "translated_text = translator.translate(input_text, dest=change_lang)\n",
    "print(translated_text.text)"
   ]
  }
 ],
 "metadata": {
  "kernelspec": {
   "display_name": "Python 3 (ipykernel)",
   "language": "python",
   "name": "python3"
  },
  "language_info": {
   "codemirror_mode": {
    "name": "ipython",
    "version": 3
   },
   "file_extension": ".py",
   "mimetype": "text/x-python",
   "name": "python",
   "nbconvert_exporter": "python",
   "pygments_lexer": "ipython3",
   "version": "3.8.8"
  }
 },
 "nbformat": 4,
 "nbformat_minor": 5
}
